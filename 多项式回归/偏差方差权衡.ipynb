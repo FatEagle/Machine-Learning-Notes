{
 "cells": [
  {
   "cell_type": "markdown",
   "metadata": {},
   "source": [
    "# 偏差方差权衡 Bias Variance Trade off\n",
    "模型误差 = 偏差(Bias) + 方差(Variance) + 不可避免的误差\n",
    "\n",
    "**导致偏差的主要原因:** \n",
    "* 对问题本身的假设不正确。如：非线性数据使用线性回归。欠拟合\n",
    "* 训练数据所采用的特征与问题无关。\n",
    "\n",
    "**导致方差的主要原因:**\n",
    "* 数据的一点点扰动都会较大地影响模型，模型没有学习到问题的中心，而学习了很多噪音。\n",
    "* 通常的原因是使用的模型太复杂，如高阶多项式回归。\n",
    "\n",
    "有一些算法是天生高方差。如KNN，对训练数据敏感。非参数学习通常都是高方差算法，因为不对数据进行任何假设。\n",
    "\n",
    "有一些算法天生是高偏差算法。如线性回归。参数学习通常都是高偏差算法。因为堆数据具有极强的假设。\n",
    "\n",
    "大多数算法具有相应的参数，可以调整偏差和方差。\n",
    "\n",
    "通常，降低偏差，会提高方差。降低方差，会提高偏差。\n",
    "**在机器学习中，主要的挑战是来源于方差**\n",
    "\n",
    "解决高方差的手段：\n",
    "1. 降低模型的复杂度\n",
    "2. 煎炒数据的维度，降噪\n",
    "3. 增加样本数（如神经网络、深度学习）\n",
    "4. 使用验证集\n",
    "5. 模型正则化"
   ]
  },
  {
   "cell_type": "code",
   "execution_count": null,
   "metadata": {},
   "outputs": [],
   "source": []
  }
 ],
 "metadata": {
  "kernelspec": {
   "display_name": "Python 3",
   "language": "python",
   "name": "python3"
  },
  "language_info": {
   "codemirror_mode": {
    "name": "ipython",
    "version": 3
   },
   "file_extension": ".py",
   "mimetype": "text/x-python",
   "name": "python",
   "nbconvert_exporter": "python",
   "pygments_lexer": "ipython3",
   "version": "3.6.8"
  }
 },
 "nbformat": 4,
 "nbformat_minor": 2
}
